{
 "cells": [
  {
   "cell_type": "code",
   "execution_count": 1,
   "id": "LlDYdINl-MYv",
   "metadata": {
    "colab": {
     "base_uri": "https://localhost:8080/"
    },
    "id": "LlDYdINl-MYv",
    "outputId": "b3637bf3-4663-4a21-9188-97127164be8b"
   },
   "outputs": [
    {
     "name": "stdout",
     "output_type": "stream",
     "text": [
      "\u001b[?25l   \u001b[90m━━━━━━━━━━━━━━━━━━━━━━━━━━━━━━━━━━━━━━━━\u001b[0m \u001b[32m0.0/1.8 MB\u001b[0m \u001b[31m?\u001b[0m eta \u001b[36m-:--:--\u001b[0m\r",
      "\u001b[2K   \u001b[91m━━━━━━━━━━━━━━━━━━━━━━━━━━━━━━━━━━━━━━━\u001b[0m\u001b[91m╸\u001b[0m \u001b[32m1.8/1.8 MB\u001b[0m \u001b[31m97.3 MB/s\u001b[0m eta \u001b[36m0:00:01\u001b[0m\r",
      "\u001b[2K   \u001b[90m━━━━━━━━━━━━━━━━━━━━━━━━━━━━━━━━━━━━━━━━\u001b[0m \u001b[32m1.8/1.8 MB\u001b[0m \u001b[31m42.1 MB/s\u001b[0m eta \u001b[36m0:00:00\u001b[0m\n",
      "\u001b[?25h"
     ]
    }
   ],
   "source": [
    "\n",
    "#@title Installs\n",
    "!pip -q install --upgrade pip\n",
    "!pip -q install torch torchvision --index-url https://download.pytorch.org/whl/cu121\n",
    "!pip -q install diffusers transformers accelerate safetensors peft xformers datasets pillow\n",
    "\n"
   ]
  },
  {
   "cell_type": "code",
   "execution_count": 2,
   "id": "4dc1a060",
   "metadata": {
    "colab": {
     "base_uri": "https://localhost:8080/"
    },
    "id": "4dc1a060",
    "outputId": "0e5a1152-1caf-4622-ab3b-e00dc36159c3"
   },
   "outputs": [
    {
     "name": "stdout",
     "output_type": "stream",
     "text": [
      "CUDA available: True\n"
     ]
    }
   ],
   "source": [
    "\n",
    "#@title Environment Setup\n",
    "import os, torch, json, time, random, pathlib\n",
    "from PIL import Image\n",
    "from typing import List\n",
    "print(\"CUDA available:\", torch.cuda.is_available())\n",
    "\n"
   ]
  },
  {
   "cell_type": "code",
   "execution_count": 3,
   "id": "6b1a95e5",
   "metadata": {
    "colab": {
     "base_uri": "https://localhost:8080/",
     "height": 702,
     "referenced_widgets": [
      "71363a8e6c3944e0a203d8ed3089f915",
      "76c90b83e5814030abccd90152a8b86c",
      "137762db6a7c42ad967c08543b7e1348",
      "cda08f7756f348909dbda513929dcbc5",
      "39e7117bb7b84fd0aa4988873674697e",
      "2aabd8508bdf4a50bb0c05089f02159a",
      "34655f055d904917a87d0ce9f5592590",
      "7aa2dd4532f94f4c9328ad3be240b923",
      "bc7d60310a28408dadcaf81e8697989b",
      "fd2cfa05ff844c848ca7777aea6a0bd1",
      "b7f27e4a3bfc4516a55989cf43bfe076",
      "f35a7be4d9774331993a86ead01ee4f4",
      "ff2629c745bb463e9c594c1f988f097e",
      "b3b734c203f849b3a366f05ab5cbdcef",
      "c2696deb53d6449fa7389a04df684295",
      "000bb57a3ad848e4aab665ce6d2f4f79",
      "3a096abec92542bdaff8ef5e16ce8ff6",
      "a1aee27728924b39a4b499bcc75a7ef7",
      "626ed800ee5d4721a463691be108cf10",
      "4ed45ff012944229940dda9cacbe5faf",
      "ef0b12075ab44e698756bea87e2c3f3c",
      "91cd739e2b7342d3896e253b3d1265f6",
      "83367292102a4fa7882b39cff387f279",
      "e55938f4df184d81bf1e4181883ae02f",
      "a5fef146787745a3aa21453baf2dabcb",
      "49d57b7c37b64c649a473077ba205c78",
      "8451a10b73624681862445fbab182e66",
      "d959dff8096d43dca49259f47db93ca6",
      "e8d3db8330c94a2db004c59e0271e38c",
      "94a2e5ed35734fb38556817447989f4d",
      "ff473a8cfa26478a89959af0d06f9098",
      "c8e6ebe69af34ae88d0ea9799772cd8e",
      "da577d2626db4ab1a23b30d9da8cf362",
      "20283cdb002e46ff930e11ce06abec6e",
      "450788d118354fbb88a2df877ad04cf3",
      "c0bfea1563834789a6e0211e3c6fd6ef",
      "b052fe740e1f492496891e64e1bf2889",
      "2dd9ada4eb864629ac6c6674c68525fb",
      "e4198bbd699c45869875021dd29270fe",
      "dc98059f8c244c7db1f014b435521074",
      "a7cb5fd300bb4f96b5f590b50e28be8d",
      "f990ef75c2ca4321ae0d6bf16c6fcbaf",
      "b4ff7213a385439795cbdd399ff1e0a5",
      "52b79af665af4a3390f6b3f46869a09a",
      "65757870063041c482c27b571dd2b9f5",
      "e6a308ea9e35416689546e8b1938025a",
      "e77e0d569350497394121a0832f220f3",
      "e7d77d5c85e443b087eaaaa1a5dc4b92",
      "dc996a09aaf14041a9bb3316f7944b90",
      "144a8e25d45749a8bc78a8e164201eff",
      "da232c5c8ce84354afa23a749920650c",
      "ae69970c2497427aade4e59bc19b7342",
      "7bca60f09405492a87e1484bef62412a",
      "e91d79a7c0a347e5ae1cc15418883373",
      "0893eec49bf6448ca3a9bfded07a1ea0",
      "147454082ac54485b4c51e7a3a93c397",
      "3b050f6c30ad4f5283ccc64bc523c829",
      "60fac662aeae4c809627c8557f9af36b",
      "cd354af73a7d4eb686f5d8174109e951",
      "a6c95d0c70f246779fe9859254ff2643",
      "9da8ec4d6db54edd813bb1ada6538c83",
      "412d5484c8954ff69e251f1f1b35bfd8",
      "bcf710d5f762476b9fd8995e099040ba",
      "e23b8b0dbeee4771a9f8f3188b6c3a18",
      "ad8f8bbbe5f24b2b8cd893c3936f51c7",
      "c4257a8893214b07bed8602fc3991a9f",
      "92ad03fc32624244b1acf271e921c044",
      "3b05cc5b039141b29a7a51c3def55298",
      "5b57871ddcc742709a8a50bf5c90f81d",
      "824df0a1e4234ccea17209781469af62",
      "7deb6db3d3c248deb2e9539a51ce46ad",
      "113c453d19114daeac2ffa3b8ca35a6d",
      "088b6e9735de43b4b012a8b2ab9f0055",
      "42b79db2c22c44e087326a94645c2530",
      "cc2640aec2e44d579a415897e3a412ee",
      "cd90da3511a94d598f90183179211168",
      "00d79a94436745869e04447d5e6ec5e2",
      "6730b3d8e1014d63884ed65cc9190bc7",
      "cab8b9b8839044a48094bd6570272a1d",
      "0e094b8debc441448ad21cc30fabef54",
      "8b717832dc6049f1baf752e7fc18d4c8",
      "db2b474dd7ed4d729cbcb4e23209bba2",
      "c24588074bc54b2fae1dbf3d8d8c9646",
      "0f22967349584eb5acfef0003b8bd6e9",
      "72ba64aeddab4d1ea78cbcf6ce5e2ffb",
      "234cae26dd5b44c69b6a208aa4fd863d",
      "028b9722c715486288a576dfa5232942",
      "c42dcc1e1ff14015b300ff5341a81f01",
      "ec32307ab75d4c03a39c967a152c9470",
      "bd1ad26e1d8c4e49bb011d6faf2fdc75",
      "07e8339f48bd41f1ad811dd0ab85aab0",
      "e47c5823af0c49e49d9c5a7a6c882873",
      "5849fe7a364d49ee930efa9ba2f1b9c2",
      "987760f4950641098caa1ed0ba2625bc",
      "dd4e1c68932248b09e1c6c97c548c983",
      "f72c560ceb734c11a0b3915c22eb257f",
      "b8fdf94333e44a1994266dcee6c59fd8",
      "84a74971c3aa44c1bde055dc1d2b5321",
      "5bde9da110b942ae993ece8f32352a15",
      "08f1d787f28a4718bd3490ffc0d504aa",
      "8e8eacb3c63d43da945b4139d0b5de35",
      "7e014b269ec84d7b928b99919ec6a333",
      "f870fbd25fdd4210aebc9fdc7af2361a",
      "b7f949bd79b8480c911d15365d9b9415",
      "3075ce2952a646cfb7e8083ef075bf54",
      "a4be23cde6604b4b8cb3babf7b668834",
      "4156c8f2456f46dfaccd80c0743aab9d",
      "d65c783b61ca407591b2e59e22b04527",
      "612ab69417124f36a46fc59d0804de59",
      "dd2fd2e9330041f1b16de8793a2e90e8",
      "ab29e612ffe7409fab3bb6d08fa439f7",
      "57f7d4973ff6429e90cff4f2565f13bb",
      "0ccc9cf2cc9b4e78bc956c5a9b46017a",
      "8b2bde17fb76434bb7f3f2af1c411dc9",
      "a177adcbce054efbb877fa4f325972c1",
      "5f4cc13b04844ed3b0a2da8a3f641d85",
      "5213fdad2edb40a68c589ffdecee0fb3",
      "96c53d5a803b464eaa0ac800294c1ee5",
      "03699ab4c08c4f1bb0a05542143453d2",
      "70762b349b7f48f48c9e1543e0c0217a",
      "00b7cdd27aac4d8c8985741e60ca8084",
      "6b1d34c2a4d34f01afb5710884b8b83a",
      "505a9713e1194da3a02f0ee07dd42d0e",
      "a79d02c319fd447db6ecdddae1d9207e",
      "27b7ab007c3a47da81169cf16ee64288",
      "c07b669064cc4f2786e4f0797bc9ed61",
      "e6ab11b734e04597a529c0a756ad599d",
      "635d3ad8b8d848ed8d3b693c3fb7bce6",
      "4a806c2f6f73470fb5cc3561edb08973",
      "07053519dee8479fafd94ec3fde53662",
      "ecd3bad5c84049528648d1231eb31f54",
      "dde84636be474069b477fbec2311178f",
      "dbdf04396e8f40c9ae22e96654fafe6a",
      "29fbaab89c6a41749da885a82319cfde",
      "0265262ae0324cc4830689cd4d07bddb",
      "eda2d9dc3fb045fbaa65fcaa06c3ef24",
      "b0e8ff490932418691fc0c89c27d4d3b",
      "c7facb15d8b547f8b1ed58d02a258be8",
      "cd6dcf12464944cd9802799af5d488b8",
      "fb1dd831fb8645d9ac24da09a9fb3aaa",
      "dae21b8c4ff44bc489da8a1c65769061",
      "c0b2958d382141b2887d0f488d5d2fce",
      "d56ef7015bf34866b0a572cc9ea6d68e",
      "601e4f0599394b16bf37b4cafc0aa2a7",
      "2ff98c37e2bf4fbc94f7d8489cd484b5",
      "72a0389cb91447bc99c1ca1ff2dfbc31",
      "bd36859ff15a4c7a9dee59d8bfa87295",
      "ceb1dfe329914a7b8c15059d6ffd5611",
      "e9cef09ff4464371a840c1c2821f1de0",
      "b98c319b67734d1cae992fa3b9febbc3",
      "ce948fb5f63b4e9fb015c7b65c8e2a19",
      "0aa7967f65454573be40e0a3564c89fa",
      "81a66257062d4cf7a62ee6266b8adca3",
      "e725c1f5f7094d109f8f19468be80cb7",
      "84e6c6d9bc2a4694977d8be8e4941a66",
      "3e7455b6c81e4613860a8ba8ce82b097",
      "6a57fd4c5a014945b56b68d7bafc2a7f",
      "6c4f7dd3d2924f5ba3f1f30f1de55fda",
      "41da5bad05674ef88464447bfbca2f5a",
      "e172d154659440a69abee0d51102a46f",
      "05b4d868882f4397b35ad9c5d71ab603",
      "8f2d5532dc5f4cedad7be6c8c978a330",
      "3a0ac296e4d4432baa5a8489b974340c",
      "a55e4b21a15c4b43916d842c68f8e188",
      "798e3d0c5ef24a2caf9b7874ccf5b082",
      "3000808b90c24cc69394760e9cd73e61",
      "7d118591540e41048e0e75aea62b4848",
      "270cc002c95e4cbe96175285b5f14ab3",
      "599adf92529b454b90f2a755d1f8b058",
      "3f4f084876ac4d07b3ea83e67b05772c",
      "ec4f1c2073794b7bb9a886a8013c5d76",
      "80ca7f4d42bd4c11b907a88b9122a22f",
      "d48b2465efeb4bc3b64783e8f1f83837",
      "df0812cf97004872907eba29957a4a08",
      "98e19964103947408303338e7ad38a1d",
      "7d8617c04e2b488583a8297562417867",
      "3438025cd1aa4a919763cf5e2b5b6e77",
      "9be521f869c6437e8e878843271cf426",
      "20d5c16e787545aaa00d7bf823be6256",
      "e3da909eaa1447c5bad6cd79f200c34d",
      "efa65302ed874527a8a418f8db1f05f2",
      "0381d6b415c84776bcf02a8b3637e8b9",
      "8981f03ca3a74af4a18000be5a2f14af",
      "ff9227cf869d4802844a91d86d2b250e",
      "404ed3e9c28e47c9955d81762a8414bb",
      "195feee8d3ac411b8d895c984d56eaaa",
      "9e6b7e532cef42de996fdb704d05dbf5"
     ]
    },
    "id": "6b1a95e5",
    "outputId": "d1d7f8e6-6635-468d-f5bc-d96a1137d04f"
   },
   "outputs": [
    {
     "name": "stderr",
     "output_type": "stream",
     "text": [
      "/usr/local/lib/python3.12/dist-packages/huggingface_hub/utils/_auth.py:94: UserWarning: \n",
      "The secret `HF_TOKEN` does not exist in your Colab secrets.\n",
      "To authenticate with the Hugging Face Hub, create a token in your settings tab (https://huggingface.co/settings/tokens), set it as secret in your Google Colab and restart your session.\n",
      "You will be able to reuse this secret in all of your notebooks.\n",
      "Please note that authentication is recommended but still optional to access public models or datasets.\n",
      "  warnings.warn(\n"
     ]
    },
    {
     "data": {
      "application/vnd.jupyter.widget-view+json": {
       "model_id": "71363a8e6c3944e0a203d8ed3089f915",
       "version_major": 2,
       "version_minor": 0
      },
      "text/plain": [
       "model_index.json:   0%|          | 0.00/541 [00:00<?, ?B/s]"
      ]
     },
     "metadata": {},
     "output_type": "display_data"
    },
    {
     "data": {
      "application/vnd.jupyter.widget-view+json": {
       "model_id": "f35a7be4d9774331993a86ead01ee4f4",
       "version_major": 2,
       "version_minor": 0
      },
      "text/plain": [
       "Fetching 15 files:   0%|          | 0/15 [00:00<?, ?it/s]"
      ]
     },
     "metadata": {},
     "output_type": "display_data"
    },
    {
     "data": {
      "application/vnd.jupyter.widget-view+json": {
       "model_id": "83367292102a4fa7882b39cff387f279",
       "version_major": 2,
       "version_minor": 0
      },
      "text/plain": [
       "config.json: 0.00B [00:00, ?B/s]"
      ]
     },
     "metadata": {},
     "output_type": "display_data"
    },
    {
     "data": {
      "application/vnd.jupyter.widget-view+json": {
       "model_id": "20283cdb002e46ff930e11ce06abec6e",
       "version_major": 2,
       "version_minor": 0
      },
      "text/plain": [
       "scheduler_config.json:   0%|          | 0.00/308 [00:00<?, ?B/s]"
      ]
     },
     "metadata": {},
     "output_type": "display_data"
    },
    {
     "data": {
      "application/vnd.jupyter.widget-view+json": {
       "model_id": "65757870063041c482c27b571dd2b9f5",
       "version_major": 2,
       "version_minor": 0
      },
      "text/plain": [
       "merges.txt: 0.00B [00:00, ?B/s]"
      ]
     },
     "metadata": {},
     "output_type": "display_data"
    },
    {
     "data": {
      "application/vnd.jupyter.widget-view+json": {
       "model_id": "147454082ac54485b4c51e7a3a93c397",
       "version_major": 2,
       "version_minor": 0
      },
      "text/plain": [
       "preprocessor_config.json:   0%|          | 0.00/342 [00:00<?, ?B/s]"
      ]
     },
     "metadata": {},
     "output_type": "display_data"
    },
    {
     "data": {
      "application/vnd.jupyter.widget-view+json": {
       "model_id": "92ad03fc32624244b1acf271e921c044",
       "version_major": 2,
       "version_minor": 0
      },
      "text/plain": [
       "special_tokens_map.json:   0%|          | 0.00/472 [00:00<?, ?B/s]"
      ]
     },
     "metadata": {},
     "output_type": "display_data"
    },
    {
     "data": {
      "application/vnd.jupyter.widget-view+json": {
       "model_id": "6730b3d8e1014d63884ed65cc9190bc7",
       "version_major": 2,
       "version_minor": 0
      },
      "text/plain": [
       "config.json:   0%|          | 0.00/617 [00:00<?, ?B/s]"
      ]
     },
     "metadata": {},
     "output_type": "display_data"
    },
    {
     "data": {
      "application/vnd.jupyter.widget-view+json": {
       "model_id": "ec32307ab75d4c03a39c967a152c9470",
       "version_major": 2,
       "version_minor": 0
      },
      "text/plain": [
       "text_encoder/model.safetensors:   0%|          | 0.00/492M [00:00<?, ?B/s]"
      ]
     },
     "metadata": {},
     "output_type": "display_data"
    },
    {
     "data": {
      "application/vnd.jupyter.widget-view+json": {
       "model_id": "08f1d787f28a4718bd3490ffc0d504aa",
       "version_major": 2,
       "version_minor": 0
      },
      "text/plain": [
       "safety_checker/model.safetensors:   0%|          | 0.00/1.22G [00:00<?, ?B/s]"
      ]
     },
     "metadata": {},
     "output_type": "display_data"
    },
    {
     "data": {
      "application/vnd.jupyter.widget-view+json": {
       "model_id": "ab29e612ffe7409fab3bb6d08fa439f7",
       "version_major": 2,
       "version_minor": 0
      },
      "text/plain": [
       "tokenizer_config.json:   0%|          | 0.00/806 [00:00<?, ?B/s]"
      ]
     },
     "metadata": {},
     "output_type": "display_data"
    },
    {
     "data": {
      "application/vnd.jupyter.widget-view+json": {
       "model_id": "6b1d34c2a4d34f01afb5710884b8b83a",
       "version_major": 2,
       "version_minor": 0
      },
      "text/plain": [
       "vocab.json: 0.00B [00:00, ?B/s]"
      ]
     },
     "metadata": {},
     "output_type": "display_data"
    },
    {
     "data": {
      "application/vnd.jupyter.widget-view+json": {
       "model_id": "dbdf04396e8f40c9ae22e96654fafe6a",
       "version_major": 2,
       "version_minor": 0
      },
      "text/plain": [
       "config.json:   0%|          | 0.00/743 [00:00<?, ?B/s]"
      ]
     },
     "metadata": {},
     "output_type": "display_data"
    },
    {
     "data": {
      "application/vnd.jupyter.widget-view+json": {
       "model_id": "601e4f0599394b16bf37b4cafc0aa2a7",
       "version_major": 2,
       "version_minor": 0
      },
      "text/plain": [
       "config.json:   0%|          | 0.00/547 [00:00<?, ?B/s]"
      ]
     },
     "metadata": {},
     "output_type": "display_data"
    },
    {
     "data": {
      "application/vnd.jupyter.widget-view+json": {
       "model_id": "84e6c6d9bc2a4694977d8be8e4941a66",
       "version_major": 2,
       "version_minor": 0
      },
      "text/plain": [
       "unet/diffusion_pytorch_model.safetensors:   0%|          | 0.00/3.44G [00:00<?, ?B/s]"
      ]
     },
     "metadata": {},
     "output_type": "display_data"
    },
    {
     "data": {
      "application/vnd.jupyter.widget-view+json": {
       "model_id": "3000808b90c24cc69394760e9cd73e61",
       "version_major": 2,
       "version_minor": 0
      },
      "text/plain": [
       "vae/diffusion_pytorch_model.safetensors:   0%|          | 0.00/335M [00:00<?, ?B/s]"
      ]
     },
     "metadata": {},
     "output_type": "display_data"
    },
    {
     "data": {
      "application/vnd.jupyter.widget-view+json": {
       "model_id": "3438025cd1aa4a919763cf5e2b5b6e77",
       "version_major": 2,
       "version_minor": 0
      },
      "text/plain": [
       "Loading pipeline components...:   0%|          | 0/7 [00:00<?, ?it/s]"
      ]
     },
     "metadata": {},
     "output_type": "display_data"
    },
    {
     "name": "stderr",
     "output_type": "stream",
     "text": [
      "`torch_dtype` is deprecated! Use `dtype` instead!\n"
     ]
    }
   ],
   "source": [
    "\n",
    "#@title Model & pipeline bootstrap\n",
    "\n",
    "from diffusers import StableDiffusionPipeline, StableDiffusionImg2ImgPipeline\n",
    "\n",
    "# Choose a model id (SD 1.5 or SDXL). Change as needed.\n",
    "MODEL_ID = \"runwayml/stable-diffusion-v1-5\"  # or \"stabilityai/stable-diffusion-xl-base-1.0\"\n",
    "OUTPUT_DIR = \"outputs_sd\"\n",
    "os.makedirs(OUTPUT_DIR, exist_ok=True)\n",
    "\n",
    "device = \"cuda\" if torch.cuda.is_available() else \"cpu\"\n",
    "pipe = StableDiffusionPipeline.from_pretrained(MODEL_ID, torch_dtype=torch.float16 if device==\"cuda\" else torch.float32)\n",
    "if device == \"cuda\":\n",
    "    pipe.enable_attention_slicing()\n",
    "    pipe.to(device)\n",
    "\n",
    "def save_image(img: Image.Image, name: str) -> str:\n",
    "    path = os.path.join(OUTPUT_DIR, name)\n",
    "    img.save(path)\n",
    "    return path\n",
    "\n"
   ]
  },
  {
   "cell_type": "code",
   "execution_count": 4,
   "id": "b1282903",
   "metadata": {
    "colab": {
     "base_uri": "https://localhost:8080/",
     "height": 165,
     "referenced_widgets": [
      "02463889c5b14192b8e0617ee0421412",
      "c9e43597fa0147fd95b716a37d32bc17",
      "f3b4c99e53344319a1d9e054947ecf77",
      "c40e4acc3b2f4d739cacfc6fdd1d5fcb",
      "8d882b1122114c50831adb114e8648f4",
      "5d06251f5c994656946d5a401692c09c",
      "71d42a3c46234f449aa383ab4dfd4054",
      "9e39dad4b94c41359a4394c4c3bd39df",
      "33e481bfb7424eb288d6e7aa7fecea4b",
      "58d68f421a074afa841e237044ff7258",
      "58f480083ea34219b1b6ea34637f5e74",
      "9517f09c7985484b9d54de5ac9f5c4c2",
      "ad33de9fff1e42f08f3223af08280968",
      "ede920e5405f47dca2b6b4a3b89dc1a1",
      "d9665683b47840be8c2a9e043d441d3d",
      "0f03d371cadc42339676712c9c94b6de",
      "86b8ed3f29654a658e3d71efebf88e83",
      "5d6ae3d8717143008e556f95d0508f20",
      "a1ba2c4f05514397b862b423864b6e99",
      "d3a1cc7a9a964e5eb5eda4e2f5488c46",
      "3f22c3a0197347a1b7f3f72fb0b3462f",
      "d041f29eeb1c40979a7adc5df0ae288b",
      "48751e13f32d4b34b7fb817e639a40e5",
      "1e79d16679aa42deb2487f0690251669",
      "52f42a151f654cfcb6eae3cc60c89339",
      "0270c3beff8b4cc0a2c105d063e87073",
      "e7f6f5e080604135a64cf098fef8d597",
      "3425ed0171cc4e1ebe7ea76257e3e924",
      "09df39feed7b4038b90204c287a8ec51",
      "29114726561f4c13932c16e14b4970bd",
      "3324bb36d6854f1db30a2df80fd5296b",
      "46a63aa8c2614e7d8bc6bf239bb65476",
      "fd25e5d3b94f4e728cec7fd71b0ec461"
     ]
    },
    "id": "b1282903",
    "outputId": "5f3c7816-290f-4197-c15f-8b4c7ba8f8de"
   },
   "outputs": [
    {
     "data": {
      "application/vnd.jupyter.widget-view+json": {
       "model_id": "02463889c5b14192b8e0617ee0421412",
       "version_major": 2,
       "version_minor": 0
      },
      "text/plain": [
       "  0%|          | 0/25 [00:00<?, ?it/s]"
      ]
     },
     "metadata": {},
     "output_type": "display_data"
    },
    {
     "data": {
      "application/vnd.jupyter.widget-view+json": {
       "model_id": "9517f09c7985484b9d54de5ac9f5c4c2",
       "version_major": 2,
       "version_minor": 0
      },
      "text/plain": [
       "  0%|          | 0/25 [00:00<?, ?it/s]"
      ]
     },
     "metadata": {},
     "output_type": "display_data"
    },
    {
     "data": {
      "application/vnd.jupyter.widget-view+json": {
       "model_id": "48751e13f32d4b34b7fb817e639a40e5",
       "version_major": 2,
       "version_minor": 0
      },
      "text/plain": [
       "  0%|          | 0/25 [00:00<?, ?it/s]"
      ]
     },
     "metadata": {},
     "output_type": "display_data"
    },
    {
     "data": {
      "text/plain": [
       "['outputs_sd/txt2img_0.png',\n",
       " 'outputs_sd/txt2img_1.png',\n",
       " 'outputs_sd/txt2img_2.png']"
      ]
     },
     "execution_count": 4,
     "metadata": {},
     "output_type": "execute_result"
    }
   ],
   "source": [
    "\n",
    "#@title Text-to-Image (generate ≥3 images)\n",
    "\n",
    "prompts = [\n",
    "    \"A realistic photo of a chessboard mid-game with dramatic lighting\",\n",
    "    \"An isometric chess diagram showing a knight fork, vector art style\",\n",
    "    \"Cartoon illustration of a king and queen playing chess, flat style\"\n",
    "]\n",
    "negative_prompt = \"low quality, blurry, nsfw, text watermark, logo\"\n",
    "\n",
    "\n",
    "generated_paths = []\n",
    "for i,p in enumerate(prompts):\n",
    "    img = pipe(prompt=p, negative_prompt=negative_prompt, num_inference_steps=25, guidance_scale=7.5, height=512, width=512).images[0]\n",
    "    path = save_image(img, f\"txt2img_{i}.png\")\n",
    "    generated_paths.append(path)\n",
    "\n",
    "generated_paths\n",
    "\n"
   ]
  },
  {
   "cell_type": "code",
   "execution_count": 5,
   "id": "4d4c3772",
   "metadata": {
    "colab": {
     "base_uri": "https://localhost:8080/",
     "height": 99,
     "referenced_widgets": [
      "f7edd708b0f145ddaa64aa2ededd545b",
      "9543106677bd4a95ba0701c95a80902b",
      "694f494498a04ed5a17cb96c03210396",
      "b16fbf0047454bc3a84e3e9e2af248b2",
      "5cda161747d141bb81b87ef75ac57672",
      "11a7dd63a16141e888da0435c8bb5a46",
      "a89efa13a02248129f56572001860853",
      "c0fabcb6672c4f33a65585aa6732cf06",
      "6792a281e1874adc8f4eb6bbba7ed26c",
      "35d752579ce84a7b828cb39abdaa2b25",
      "c50758fb30544a6ca6aff330d9c8d873",
      "cf12173e9aa14dffb56fdea76587002b",
      "54268aaeabf046148b4aba4b3467bf46",
      "155282f83a054d6e9eaf7fe5c703741a",
      "9c530fb08dd24f28a923f30772ef03ae",
      "86135876fedf4c6797cf85930b3d3712",
      "6c75d187cf644a0190536909a1d16655",
      "50095207edaa442fb7c50bb14c956221",
      "a54731e5d176416b9d9ad7b4b23438af",
      "504e23da3d2140ddaa97656181dd0112",
      "ba998525dde945a79c4c6be226d1bff3",
      "f80b355868924386808053754ac3db2f"
     ]
    },
    "id": "4d4c3772",
    "outputId": "93563ff7-b0fa-4cfe-b6e1-07e800b4ca97"
   },
   "outputs": [
    {
     "data": {
      "application/vnd.jupyter.widget-view+json": {
       "model_id": "f7edd708b0f145ddaa64aa2ededd545b",
       "version_major": 2,
       "version_minor": 0
      },
      "text/plain": [
       "Loading pipeline components...:   0%|          | 0/7 [00:00<?, ?it/s]"
      ]
     },
     "metadata": {},
     "output_type": "display_data"
    },
    {
     "data": {
      "application/vnd.jupyter.widget-view+json": {
       "model_id": "cf12173e9aa14dffb56fdea76587002b",
       "version_major": 2,
       "version_minor": 0
      },
      "text/plain": [
       "  0%|          | 0/18 [00:00<?, ?it/s]"
      ]
     },
     "metadata": {},
     "output_type": "display_data"
    },
    {
     "data": {
      "application/vnd.google.colaboratory.intrinsic+json": {
       "type": "string"
      },
      "text/plain": [
       "'outputs_sd/img2img_edit.png'"
      ]
     },
     "execution_count": 5,
     "metadata": {},
     "output_type": "execute_result"
    }
   ],
   "source": [
    "\n",
    "#@title Img2Img / Inpaint (perform one edit)\n",
    "# For Img2Img: use the first generated image as init.\n",
    "init_img_path = generated_paths[0]\n",
    "init_image = Image.open(init_img_path).convert(\"RGB\").resize((512,512))\n",
    "\n",
    "img2img = StableDiffusionImg2ImgPipeline.from_pretrained(\n",
    "    MODEL_ID,\n",
    "    torch_dtype=torch.float16 if device==\"cuda\" else torch.float32\n",
    ").to(device)\n",
    "\n",
    "edit_prompt = \"Turn this chessboard into a neon cyberpunk hyper futuristic night scene\"\n",
    "\n",
    "edited = img2img(prompt=edit_prompt, image=init_image, strength=0.6, guidance_scale=8.0, num_inference_steps=30).images[0]\n",
    "edited_path = save_image(edited, \"img2img_edit.png\")\n",
    "edited_path\n"
   ]
  },
  {
   "cell_type": "code",
   "execution_count": 9,
   "id": "70i7mfkamBM5",
   "metadata": {
    "colab": {
     "base_uri": "https://localhost:8080/",
     "height": 73
    },
    "id": "70i7mfkamBM5",
    "outputId": "5eb68075-761f-43a6-bbfe-924f882bc43d"
   },
   "outputs": [
    {
     "data": {
      "text/html": [
       "\n",
       "     <input type=\"file\" id=\"files-36dc50b9-42b2-4e7c-9c03-bd13317dc6b8\" name=\"files[]\" multiple disabled\n",
       "        style=\"border:none\" />\n",
       "     <output id=\"result-36dc50b9-42b2-4e7c-9c03-bd13317dc6b8\">\n",
       "      Upload widget is only available when the cell has been executed in the\n",
       "      current browser session. Please rerun this cell to enable.\n",
       "      </output>\n",
       "      <script>// Copyright 2017 Google LLC\n",
       "//\n",
       "// Licensed under the Apache License, Version 2.0 (the \"License\");\n",
       "// you may not use this file except in compliance with the License.\n",
       "// You may obtain a copy of the License at\n",
       "//\n",
       "//      http://www.apache.org/licenses/LICENSE-2.0\n",
       "//\n",
       "// Unless required by applicable law or agreed to in writing, software\n",
       "// distributed under the License is distributed on an \"AS IS\" BASIS,\n",
       "// WITHOUT WARRANTIES OR CONDITIONS OF ANY KIND, either express or implied.\n",
       "// See the License for the specific language governing permissions and\n",
       "// limitations under the License.\n",
       "\n",
       "/**\n",
       " * @fileoverview Helpers for google.colab Python module.\n",
       " */\n",
       "(function(scope) {\n",
       "function span(text, styleAttributes = {}) {\n",
       "  const element = document.createElement('span');\n",
       "  element.textContent = text;\n",
       "  for (const key of Object.keys(styleAttributes)) {\n",
       "    element.style[key] = styleAttributes[key];\n",
       "  }\n",
       "  return element;\n",
       "}\n",
       "\n",
       "// Max number of bytes which will be uploaded at a time.\n",
       "const MAX_PAYLOAD_SIZE = 100 * 1024;\n",
       "\n",
       "function _uploadFiles(inputId, outputId) {\n",
       "  const steps = uploadFilesStep(inputId, outputId);\n",
       "  const outputElement = document.getElementById(outputId);\n",
       "  // Cache steps on the outputElement to make it available for the next call\n",
       "  // to uploadFilesContinue from Python.\n",
       "  outputElement.steps = steps;\n",
       "\n",
       "  return _uploadFilesContinue(outputId);\n",
       "}\n",
       "\n",
       "// This is roughly an async generator (not supported in the browser yet),\n",
       "// where there are multiple asynchronous steps and the Python side is going\n",
       "// to poll for completion of each step.\n",
       "// This uses a Promise to block the python side on completion of each step,\n",
       "// then passes the result of the previous step as the input to the next step.\n",
       "function _uploadFilesContinue(outputId) {\n",
       "  const outputElement = document.getElementById(outputId);\n",
       "  const steps = outputElement.steps;\n",
       "\n",
       "  const next = steps.next(outputElement.lastPromiseValue);\n",
       "  return Promise.resolve(next.value.promise).then((value) => {\n",
       "    // Cache the last promise value to make it available to the next\n",
       "    // step of the generator.\n",
       "    outputElement.lastPromiseValue = value;\n",
       "    return next.value.response;\n",
       "  });\n",
       "}\n",
       "\n",
       "/**\n",
       " * Generator function which is called between each async step of the upload\n",
       " * process.\n",
       " * @param {string} inputId Element ID of the input file picker element.\n",
       " * @param {string} outputId Element ID of the output display.\n",
       " * @return {!Iterable<!Object>} Iterable of next steps.\n",
       " */\n",
       "function* uploadFilesStep(inputId, outputId) {\n",
       "  const inputElement = document.getElementById(inputId);\n",
       "  inputElement.disabled = false;\n",
       "\n",
       "  const outputElement = document.getElementById(outputId);\n",
       "  outputElement.innerHTML = '';\n",
       "\n",
       "  const pickedPromise = new Promise((resolve) => {\n",
       "    inputElement.addEventListener('change', (e) => {\n",
       "      resolve(e.target.files);\n",
       "    });\n",
       "  });\n",
       "\n",
       "  const cancel = document.createElement('button');\n",
       "  inputElement.parentElement.appendChild(cancel);\n",
       "  cancel.textContent = 'Cancel upload';\n",
       "  const cancelPromise = new Promise((resolve) => {\n",
       "    cancel.onclick = () => {\n",
       "      resolve(null);\n",
       "    };\n",
       "  });\n",
       "\n",
       "  // Wait for the user to pick the files.\n",
       "  const files = yield {\n",
       "    promise: Promise.race([pickedPromise, cancelPromise]),\n",
       "    response: {\n",
       "      action: 'starting',\n",
       "    }\n",
       "  };\n",
       "\n",
       "  cancel.remove();\n",
       "\n",
       "  // Disable the input element since further picks are not allowed.\n",
       "  inputElement.disabled = true;\n",
       "\n",
       "  if (!files) {\n",
       "    return {\n",
       "      response: {\n",
       "        action: 'complete',\n",
       "      }\n",
       "    };\n",
       "  }\n",
       "\n",
       "  for (const file of files) {\n",
       "    const li = document.createElement('li');\n",
       "    li.append(span(file.name, {fontWeight: 'bold'}));\n",
       "    li.append(span(\n",
       "        `(${file.type || 'n/a'}) - ${file.size} bytes, ` +\n",
       "        `last modified: ${\n",
       "            file.lastModifiedDate ? file.lastModifiedDate.toLocaleDateString() :\n",
       "                                    'n/a'} - `));\n",
       "    const percent = span('0% done');\n",
       "    li.appendChild(percent);\n",
       "\n",
       "    outputElement.appendChild(li);\n",
       "\n",
       "    const fileDataPromise = new Promise((resolve) => {\n",
       "      const reader = new FileReader();\n",
       "      reader.onload = (e) => {\n",
       "        resolve(e.target.result);\n",
       "      };\n",
       "      reader.readAsArrayBuffer(file);\n",
       "    });\n",
       "    // Wait for the data to be ready.\n",
       "    let fileData = yield {\n",
       "      promise: fileDataPromise,\n",
       "      response: {\n",
       "        action: 'continue',\n",
       "      }\n",
       "    };\n",
       "\n",
       "    // Use a chunked sending to avoid message size limits. See b/62115660.\n",
       "    let position = 0;\n",
       "    do {\n",
       "      const length = Math.min(fileData.byteLength - position, MAX_PAYLOAD_SIZE);\n",
       "      const chunk = new Uint8Array(fileData, position, length);\n",
       "      position += length;\n",
       "\n",
       "      const base64 = btoa(String.fromCharCode.apply(null, chunk));\n",
       "      yield {\n",
       "        response: {\n",
       "          action: 'append',\n",
       "          file: file.name,\n",
       "          data: base64,\n",
       "        },\n",
       "      };\n",
       "\n",
       "      let percentDone = fileData.byteLength === 0 ?\n",
       "          100 :\n",
       "          Math.round((position / fileData.byteLength) * 100);\n",
       "      percent.textContent = `${percentDone}% done`;\n",
       "\n",
       "    } while (position < fileData.byteLength);\n",
       "  }\n",
       "\n",
       "  // All done.\n",
       "  yield {\n",
       "    response: {\n",
       "      action: 'complete',\n",
       "    }\n",
       "  };\n",
       "}\n",
       "\n",
       "scope.google = scope.google || {};\n",
       "scope.google.colab = scope.google.colab || {};\n",
       "scope.google.colab._files = {\n",
       "  _uploadFiles,\n",
       "  _uploadFilesContinue,\n",
       "};\n",
       "})(self);\n",
       "</script> "
      ],
      "text/plain": [
       "<IPython.core.display.HTML object>"
      ]
     },
     "metadata": {},
     "output_type": "display_data"
    },
    {
     "name": "stdout",
     "output_type": "stream",
     "text": [
      "Saving pytorch_lora_weights.safetensors to pytorch_lora_weights.safetensors\n"
     ]
    }
   ],
   "source": [
    "#@title Upload the LoRA training weights folder from other colab\n",
    "\n",
    "from google.colab import files\n",
    "files.upload();\n",
    "\n",
    "\n"
   ]
  },
  {
   "cell_type": "code",
   "execution_count": 11,
   "id": "QbneAMFLrqrM",
   "metadata": {
    "colab": {
     "base_uri": "https://localhost:8080/"
    },
    "id": "QbneAMFLrqrM",
    "outputId": "9adc1ca8-d262-4466-fd12-0cb4dcf2e49b"
   },
   "outputs": [
    {
     "name": "stdout",
     "output_type": "stream",
     "text": [
      "mv: cannot stat 'pytorch_lora_weights.safetensors': No such file or directory\n"
     ]
    }
   ],
   "source": [
    "\n",
    "#@title Move Weights into a Folder\n",
    "\n",
    "!mkdir lora_weights\n",
    "!mv pytorch_lora_weights.safetensors lora_weights/\n"
   ]
  },
  {
   "cell_type": "code",
   "execution_count": 23,
   "id": "d785fb5a",
   "metadata": {
    "colab": {
     "base_uri": "https://localhost:8080/",
     "height": 130,
     "referenced_widgets": [
      "fb5effc238f549f6a8db8f5762d09f03",
      "9b44d9d8cce74a82ba64473783f56386",
      "73f113b180e84bfab948cf1845b4e332",
      "1f4133f3976b417294b360ae2b2c94af",
      "303a0e3fbd15440f8a1af2416e9ef4c8",
      "6aa54b4a05cb4900b7da2c5fcd2ac6eb",
      "4d51a9c42c6444e6a69ccc49676fd01c",
      "9a723ecaa10048b29b9f42e4fe2f363a",
      "4972bf4bf3c6417f87338aea2f828963",
      "a1b183030de5425caba95617920a9109",
      "fbd7febe017f42adaa6f04f73f81c0cb",
      "6446dedba0754f06a5c2d3b61297903a",
      "de181e6d97de43ac8bc7126c712c8dd2",
      "83829da1aa5d46e6b452352761d3ba7f",
      "3e1bad3881744c2e844670ea504c3f4c",
      "8eb5dace64aa4792b8fbcc272a15f8cf",
      "25df5160a40e400db23a55c1fad0faea",
      "dedde37c3d1e457bbcf038846d9b7fa0",
      "a12edf772446458d9bca84a454ee1e70",
      "426afaf76b0d4f8d9a95aceb7efbcd61",
      "1ba9f536d6c64394be42c7dabecedc42",
      "c808641785424b18afebc50e42c9931e",
      "a75d3cfa513d463db3b6ae49515c5d40",
      "ffeac1107e0b4d8dbd903ca92ceeb4c5",
      "869693de16404057bd05a118362fe576",
      "0e2589ba09c2412fa0a69c417e13afc6",
      "c5623af3cb0f4c5880c7dcfc4ad5c3ef",
      "583d6a23f69f4bdca1a3ad6ef8f5fc36",
      "32f19b7ee7274cc1ae54ad3f60b4bc0b",
      "9005bbd2f7344f5e83672b926076f56f",
      "c81ab7ac2f3c4be791c2415f858db762",
      "196fef6f3b774b2f870c758d06f77869",
      "230f0cfccf63466d8785f5e5e79d129b"
     ]
    },
    "id": "d785fb5a",
    "outputId": "aeab9e39-dceb-474f-e314-f68e6dff4814"
   },
   "outputs": [
    {
     "data": {
      "application/vnd.jupyter.widget-view+json": {
       "model_id": "fb5effc238f549f6a8db8f5762d09f03",
       "version_major": 2,
       "version_minor": 0
      },
      "text/plain": [
       "Loading pipeline components...:   0%|          | 0/7 [00:00<?, ?it/s]"
      ]
     },
     "metadata": {},
     "output_type": "display_data"
    },
    {
     "data": {
      "application/vnd.jupyter.widget-view+json": {
       "model_id": "6446dedba0754f06a5c2d3b61297903a",
       "version_major": 2,
       "version_minor": 0
      },
      "text/plain": [
       "  0%|          | 0/30 [00:00<?, ?it/s]"
      ]
     },
     "metadata": {},
     "output_type": "display_data"
    },
    {
     "data": {
      "application/vnd.jupyter.widget-view+json": {
       "model_id": "a75d3cfa513d463db3b6ae49515c5d40",
       "version_major": 2,
       "version_minor": 0
      },
      "text/plain": [
       "  0%|          | 0/30 [00:00<?, ?it/s]"
      ]
     },
     "metadata": {},
     "output_type": "display_data"
    },
    {
     "name": "stdout",
     "output_type": "stream",
     "text": [
      "Done. Exported images are in: /content/lora_outputs\n"
     ]
    }
   ],
   "source": [
    "\n",
    "\n",
    "#@title Tiny LoRA after Training - Outputs\n",
    "from diffusers import StableDiffusionPipeline\n",
    "import torch\n",
    "import os\n",
    "from PIL import Image\n",
    "\n",
    "# Load base model\n",
    "pipe = StableDiffusionPipeline.from_pretrained(\"runwayml/stable-diffusion-v1-5\", torch_dtype=torch.float16).to(\"cuda\")\n",
    "\n",
    "# Attach your LoRA weights\n",
    "pipe.unet.load_attn_procs(\"lora_weights\")\n",
    "\n",
    "# Define prompts\n",
    "lora_prompts = [\n",
    "    \"a realistic 3D render of a red and blue chessboard with dramatic lighting\",\n",
    "    \"an overhead shot of a wood chessboard in the middle of a game\"\n",
    "]\n",
    "\n",
    "# Generate & save images\n",
    "output_dir = \"lora_outputs\"\n",
    "os.makedirs(output_dir, exist_ok=True)\n",
    "\n",
    "for i, p in enumerate(lora_prompts):\n",
    "    img = pipe(prompt=p, num_inference_steps=30, guidance_scale=8.0).images[0]\n",
    "    img.save(f\"{output_dir}/lora_out_{i}.png\")\n",
    "\n",
    "print(\"Done. Exported images are in:\", os.path.abspath(output_dir))\n",
    "\n",
    "\n"
   ]
  },
  {
   "cell_type": "code",
   "execution_count": 25,
   "id": "WQZeCp1G8ofn",
   "metadata": {
    "colab": {
     "base_uri": "https://localhost:8080/",
     "height": 156
    },
    "id": "WQZeCp1G8ofn",
    "outputId": "7eb38dae-a1b7-4735-fd50-229fccef0663"
   },
   "outputs": [
    {
     "name": "stdout",
     "output_type": "stream",
     "text": [
      "  adding: lora_outputs/ (stored 0%)\n",
      "  adding: lora_outputs/lora_out_0.png (deflated 0%)\n",
      "  adding: lora_outputs/lora_out_1.png (deflated 0%)\n",
      "  adding: outputs_sd/ (stored 0%)\n",
      "  adding: outputs_sd/txt2img_1.png (deflated 0%)\n",
      "  adding: outputs_sd/txt2img_2.png (deflated 0%)\n",
      "  adding: outputs_sd/txt2img_0.png (deflated 0%)\n",
      "  adding: outputs_sd/img2img_edit.png (deflated 0%)\n"
     ]
    },
    {
     "data": {
      "application/javascript": [
       "\n",
       "    async function download(id, filename, size) {\n",
       "      if (!google.colab.kernel.accessAllowed) {\n",
       "        return;\n",
       "      }\n",
       "      const div = document.createElement('div');\n",
       "      const label = document.createElement('label');\n",
       "      label.textContent = `Downloading \"${filename}\": `;\n",
       "      div.appendChild(label);\n",
       "      const progress = document.createElement('progress');\n",
       "      progress.max = size;\n",
       "      div.appendChild(progress);\n",
       "      document.body.appendChild(div);\n",
       "\n",
       "      const buffers = [];\n",
       "      let downloaded = 0;\n",
       "\n",
       "      const channel = await google.colab.kernel.comms.open(id);\n",
       "      // Send a message to notify the kernel that we're ready.\n",
       "      channel.send({})\n",
       "\n",
       "      for await (const message of channel.messages) {\n",
       "        // Send a message to notify the kernel that we're ready.\n",
       "        channel.send({})\n",
       "        if (message.buffers) {\n",
       "          for (const buffer of message.buffers) {\n",
       "            buffers.push(buffer);\n",
       "            downloaded += buffer.byteLength;\n",
       "            progress.value = downloaded;\n",
       "          }\n",
       "        }\n",
       "      }\n",
       "      const blob = new Blob(buffers, {type: 'application/binary'});\n",
       "      const a = document.createElement('a');\n",
       "      a.href = window.URL.createObjectURL(blob);\n",
       "      a.download = filename;\n",
       "      div.appendChild(a);\n",
       "      a.click();\n",
       "      div.remove();\n",
       "    }\n",
       "  "
      ],
      "text/plain": [
       "<IPython.core.display.Javascript object>"
      ]
     },
     "metadata": {},
     "output_type": "display_data"
    },
    {
     "data": {
      "application/javascript": [
       "download(\"download_5d6fc749-64a1-4498-bf5f-2a090c244218\", \"TrackA.zip\", 2412340)"
      ],
      "text/plain": [
       "<IPython.core.display.Javascript object>"
      ]
     },
     "metadata": {},
     "output_type": "display_data"
    }
   ],
   "source": [
    "\n",
    "\n",
    "!zip -r TrackA.zip lora_outputs outputs_sd\n",
    "\n",
    "files.download(\"TrackA.zip\")\n",
    "\n"
   ]
  }
 ],
 "metadata": {
  "accelerator": "GPU",
  "colab": {
   "gpuType": "T4",
   "provenance": []
  },
  "kernelspec": {
   "display_name": "Python 3",
   "name": "python3"
  },
  "language_info": {
   "name": "python"
  }
 },
 "nbformat": 4,
 "nbformat_minor": 5
}
